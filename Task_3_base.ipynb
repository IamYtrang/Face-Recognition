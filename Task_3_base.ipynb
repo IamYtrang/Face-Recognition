{
  "nbformat": 4,
  "nbformat_minor": 0,
  "metadata": {
    "colab": {
      "provenance": []
    },
    "kernelspec": {
      "name": "python3",
      "display_name": "Python 3"
    },
    "language_info": {
      "name": "python"
    }
  },
  "cells": [
    {
      "cell_type": "code",
      "execution_count": 56,
      "metadata": {
        "id": "YqVjE_9HzSIy"
      },
      "outputs": [],
      "source": [
        "from sklearn.datasets import fetch_lfw_people\n",
        "import numpy as np\n",
        "from sklearn.datasets import make_classification\n",
        "from sklearn.model_selection import train_test_split\n",
        "from sklearn.preprocessing import StandardScaler\n",
        "from sklearn.decomposition import PCA, KernelPCA\n",
        "from sklearn.linear_model import LogisticRegression\n",
        "from sklearn.svm import SVC\n",
        "from sklearn.pipeline import Pipeline\n",
        "from sklearn.metrics import accuracy_score\n",
        "from sklearn.neighbors import KNeighborsClassifier\n",
        "from sklearn.metrics import classification_report, accuracy_score\n",
        "import pandas as pd"
      ]
    },
    {
      "cell_type": "code",
      "source": [
        "from google.colab import drive\n",
        "drive.mount('/content/drive')"
      ],
      "metadata": {
        "colab": {
          "base_uri": "https://localhost:8080/"
        },
        "id": "Fynli4zl03TY",
        "outputId": "a9144f2d-a44b-4d94-ad5b-cabdf91061d0"
      },
      "execution_count": 35,
      "outputs": [
        {
          "output_type": "stream",
          "name": "stdout",
          "text": [
            "Drive already mounted at /content/drive; to attempt to forcibly remount, call drive.mount(\"/content/drive\", force_remount=True).\n"
          ]
        }
      ]
    },
    {
      "cell_type": "code",
      "source": [
        "lfw_people = fetch_lfw_people(min_faces_per_person=20, resize=0.4)"
      ],
      "metadata": {
        "id": "Indtk8M11CA-"
      },
      "execution_count": 36,
      "outputs": []
    },
    {
      "cell_type": "code",
      "source": [
        "n_samples, h, w = lfw_people.images.shape\n",
        "\n",
        "X = lfw_people.data\n",
        "n_features = X.shape[1]\n",
        "\n",
        "y = lfw_people.target\n",
        "target_names = lfw_people.target_names\n",
        "n_classes = target_names.shape[0]\n",
        "print(\"Total dataset size:\")\n",
        "print(\"n_samples: %d\" % n_samples)\n",
        "print(\"n_features: %d\" % n_features)\n",
        "print(\"n_classes: %d\" % n_classes)\n",
        "print(\"Image shape: (%d, %d)\" % (h, w))"
      ],
      "metadata": {
        "colab": {
          "base_uri": "https://localhost:8080/"
        },
        "id": "-sU9TXNO1-QE",
        "outputId": "53ac6f10-a8f7-491e-9648-c172a4c6140a"
      },
      "execution_count": 37,
      "outputs": [
        {
          "output_type": "stream",
          "name": "stdout",
          "text": [
            "Total dataset size:\n",
            "n_samples: 3023\n",
            "n_features: 1850\n",
            "n_classes: 62\n",
            "Image shape: (50, 37)\n"
          ]
        }
      ]
    },
    {
      "cell_type": "markdown",
      "source": [
        "# PCA"
      ],
      "metadata": {
        "id": "1S5ZqAog3UWo"
      }
    },
    {
      "cell_type": "code",
      "source": [
        "X_train, X_test, y_train, y_test = train_test_split(X, y, test_size=0.1, random_state=42)"
      ],
      "metadata": {
        "id": "bgRY_p6b2YfB"
      },
      "execution_count": 38,
      "outputs": []
    },
    {
      "cell_type": "code",
      "source": [
        "n_components = 150\n",
        "pca = PCA(n_components=n_components, whiten=True, random_state=42).fit(X_train)\n",
        "\n",
        "X_train_pca = pca.transform(X_train)\n",
        "X_test_pca = pca.transform(X_test)"
      ],
      "metadata": {
        "id": "gbx0mUAD24g9"
      },
      "execution_count": 39,
      "outputs": []
    },
    {
      "cell_type": "code",
      "source": [
        "knn = KNeighborsClassifier(n_neighbors=5)\n",
        "knn.fit(X_train_pca, y_train)\n",
        "\n",
        "y_pred = knn.predict(X_test_pca)\n",
        "\n",
        "print(f\"Accuracy: {accuracy_score(y_test, y_pred)}\")\n",
        "\n",
        "report_knn_dict = classification_report(y_test, y_pred, output_dict=True)\n",
        "\n",
        "print(report_knn_dict)"
      ],
      "metadata": {
        "colab": {
          "base_uri": "https://localhost:8080/"
        },
        "id": "cxzHG7SS35-0",
        "outputId": "6baf1c69-c248-498f-dcc7-2a821871e727"
      },
      "execution_count": 40,
      "outputs": [
        {
          "output_type": "stream",
          "name": "stdout",
          "text": [
            "Accuracy: 0.41914191419141916\n",
            "{'0': {'precision': 0.2631578947368421, 'recall': 0.625, 'f1-score': 0.37037037037037035, 'support': 8}, '1': {'precision': 0.0, 'recall': 0.0, 'f1-score': 0.0, 'support': 3}, '2': {'precision': 1.0, 'recall': 0.3333333333333333, 'f1-score': 0.5, 'support': 3}, '3': {'precision': 0.25, 'recall': 0.25, 'f1-score': 0.25, 'support': 4}, '4': {'precision': 0.3333333333333333, 'recall': 0.5, 'f1-score': 0.4, 'support': 2}, '5': {'precision': 0.0, 'recall': 0.0, 'f1-score': 0.0, 'support': 6}, '6': {'precision': 0.14285714285714285, 'recall': 0.16666666666666666, 'f1-score': 0.15384615384615383, 'support': 6}, '7': {'precision': 0.14285714285714285, 'recall': 0.3333333333333333, 'f1-score': 0.2, 'support': 3}, '8': {'precision': 0.18181818181818182, 'recall': 0.4, 'f1-score': 0.25000000000000006, 'support': 5}, '9': {'precision': 0.6666666666666666, 'recall': 0.6666666666666666, 'f1-score': 0.6666666666666666, 'support': 3}, '10': {'precision': 0.4888888888888889, 'recall': 0.6111111111111112, 'f1-score': 0.5432098765432098, 'support': 36}, '11': {'precision': 0.14285714285714285, 'recall': 0.5, 'f1-score': 0.22222222222222224, 'support': 2}, '12': {'precision': 0.4, 'recall': 0.5333333333333333, 'f1-score': 0.4571428571428572, 'support': 15}, '13': {'precision': 0.6666666666666666, 'recall': 0.6666666666666666, 'f1-score': 0.6666666666666666, 'support': 3}, '14': {'precision': 0.44086021505376344, 'recall': 0.9111111111111111, 'f1-score': 0.5942028985507247, 'support': 45}, '15': {'precision': 0.25, 'recall': 0.25, 'f1-score': 0.25, 'support': 8}, '16': {'precision': 1.0, 'recall': 0.5, 'f1-score': 0.6666666666666666, 'support': 8}, '17': {'precision': 0.0, 'recall': 0.0, 'f1-score': 0.0, 'support': 1}, '18': {'precision': 0.6666666666666666, 'recall': 0.6666666666666666, 'f1-score': 0.6666666666666666, 'support': 3}, '19': {'precision': 0.0, 'recall': 0.0, 'f1-score': 0.0, 'support': 3}, '20': {'precision': 0.0, 'recall': 0.0, 'f1-score': 0.0, 'support': 3}, '21': {'precision': 1.0, 'recall': 0.1111111111111111, 'f1-score': 0.19999999999999998, 'support': 9}, '22': {'precision': 0.0, 'recall': 0.0, 'f1-score': 0.0, 'support': 0}, '24': {'precision': 1.0, 'recall': 0.16666666666666666, 'f1-score': 0.2857142857142857, 'support': 6}, '25': {'precision': 1.0, 'recall': 0.3333333333333333, 'f1-score': 0.5, 'support': 3}, '26': {'precision': 0.0, 'recall': 0.0, 'f1-score': 0.0, 'support': 4}, '27': {'precision': 0.0, 'recall': 0.0, 'f1-score': 0.0, 'support': 1}, '29': {'precision': 0.0, 'recall': 0.0, 'f1-score': 0.0, 'support': 6}, '30': {'precision': 0.0, 'recall': 0.0, 'f1-score': 0.0, 'support': 1}, '31': {'precision': 0.4, 'recall': 0.4, 'f1-score': 0.4000000000000001, 'support': 5}, '32': {'precision': 0.0, 'recall': 0.0, 'f1-score': 0.0, 'support': 2}, '33': {'precision': 0.0, 'recall': 0.0, 'f1-score': 0.0, 'support': 1}, '34': {'precision': 1.0, 'recall': 0.25, 'f1-score': 0.4, 'support': 4}, '35': {'precision': 0.75, 'recall': 0.6, 'f1-score': 0.6666666666666665, 'support': 5}, '36': {'precision': 0.0, 'recall': 0.0, 'f1-score': 0.0, 'support': 3}, '37': {'precision': 0.4, 'recall': 0.6666666666666666, 'f1-score': 0.5, 'support': 3}, '38': {'precision': 0.0, 'recall': 0.0, 'f1-score': 0.0, 'support': 2}, '39': {'precision': 1.0, 'recall': 0.3333333333333333, 'f1-score': 0.5, 'support': 3}, '40': {'precision': 1.0, 'recall': 1.0, 'f1-score': 1.0, 'support': 2}, '41': {'precision': 0.0, 'recall': 0.0, 'f1-score': 0.0, 'support': 1}, '42': {'precision': 1.0, 'recall': 0.75, 'f1-score': 0.8571428571428571, 'support': 4}, '43': {'precision': 0.0, 'recall': 0.0, 'f1-score': 0.0, 'support': 1}, '44': {'precision': 1.0, 'recall': 0.5, 'f1-score': 0.6666666666666666, 'support': 4}, '45': {'precision': 0.0, 'recall': 0.0, 'f1-score': 0.0, 'support': 4}, '46': {'precision': 0.0, 'recall': 0.0, 'f1-score': 0.0, 'support': 2}, '47': {'precision': 1.0, 'recall': 0.3333333333333333, 'f1-score': 0.5, 'support': 3}, '48': {'precision': 0.0, 'recall': 0.0, 'f1-score': 0.0, 'support': 2}, '49': {'precision': 0.0, 'recall': 0.0, 'f1-score': 0.0, 'support': 2}, '51': {'precision': 0.0, 'recall': 0.0, 'f1-score': 0.0, 'support': 1}, '52': {'precision': 0.0, 'recall': 0.0, 'f1-score': 0.0, 'support': 2}, '53': {'precision': 1.0, 'recall': 0.4, 'f1-score': 0.5714285714285715, 'support': 5}, '54': {'precision': 0.0, 'recall': 0.0, 'f1-score': 0.0, 'support': 5}, '55': {'precision': 1.0, 'recall': 1.0, 'f1-score': 1.0, 'support': 1}, '56': {'precision': 0.0, 'recall': 0.0, 'f1-score': 0.0, 'support': 2}, '57': {'precision': 0.0, 'recall': 0.0, 'f1-score': 0.0, 'support': 3}, '58': {'precision': 0.19047619047619047, 'recall': 0.2857142857142857, 'f1-score': 0.22857142857142854, 'support': 14}, '59': {'precision': 1.0, 'recall': 0.4, 'f1-score': 0.5714285714285715, 'support': 5}, '60': {'precision': 0.5, 'recall': 0.125, 'f1-score': 0.2, 'support': 8}, '61': {'precision': 1.0, 'recall': 0.25, 'f1-score': 0.4, 'support': 4}, 'accuracy': 0.41914191419141916, 'macro avg': {'precision': 0.3775780700487903, 'recall': 0.2681194511702986, 'f1-score': 0.2763606795417161, 'support': 303}, 'weighted avg': {'precision': 0.44656048069031984, 'recall': 0.41914191419141916, 'f1-score': 0.37499270418627567, 'support': 303}}\n"
          ]
        },
        {
          "output_type": "stream",
          "name": "stderr",
          "text": [
            "/usr/local/lib/python3.10/dist-packages/sklearn/metrics/_classification.py:1344: UndefinedMetricWarning: Precision and F-score are ill-defined and being set to 0.0 in labels with no predicted samples. Use `zero_division` parameter to control this behavior.\n",
            "  _warn_prf(average, modifier, msg_start, len(result))\n",
            "/usr/local/lib/python3.10/dist-packages/sklearn/metrics/_classification.py:1344: UndefinedMetricWarning: Recall and F-score are ill-defined and being set to 0.0 in labels with no true samples. Use `zero_division` parameter to control this behavior.\n",
            "  _warn_prf(average, modifier, msg_start, len(result))\n",
            "/usr/local/lib/python3.10/dist-packages/sklearn/metrics/_classification.py:1344: UndefinedMetricWarning: Precision and F-score are ill-defined and being set to 0.0 in labels with no predicted samples. Use `zero_division` parameter to control this behavior.\n",
            "  _warn_prf(average, modifier, msg_start, len(result))\n",
            "/usr/local/lib/python3.10/dist-packages/sklearn/metrics/_classification.py:1344: UndefinedMetricWarning: Recall and F-score are ill-defined and being set to 0.0 in labels with no true samples. Use `zero_division` parameter to control this behavior.\n",
            "  _warn_prf(average, modifier, msg_start, len(result))\n",
            "/usr/local/lib/python3.10/dist-packages/sklearn/metrics/_classification.py:1344: UndefinedMetricWarning: Precision and F-score are ill-defined and being set to 0.0 in labels with no predicted samples. Use `zero_division` parameter to control this behavior.\n",
            "  _warn_prf(average, modifier, msg_start, len(result))\n",
            "/usr/local/lib/python3.10/dist-packages/sklearn/metrics/_classification.py:1344: UndefinedMetricWarning: Recall and F-score are ill-defined and being set to 0.0 in labels with no true samples. Use `zero_division` parameter to control this behavior.\n",
            "  _warn_prf(average, modifier, msg_start, len(result))\n"
          ]
        }
      ]
    },
    {
      "cell_type": "markdown",
      "source": [
        "# Logistic"
      ],
      "metadata": {
        "id": "jZHmNy1IhIc2"
      }
    },
    {
      "cell_type": "code",
      "source": [
        "X_train, X_test, y_train, y_test = train_test_split(X, y, test_size=0.1, random_state=42)"
      ],
      "metadata": {
        "id": "BdIYK8XW4GgM"
      },
      "execution_count": 41,
      "outputs": []
    },
    {
      "cell_type": "code",
      "source": [
        "scaler = StandardScaler()\n",
        "X_train_scaled = scaler.fit_transform(X_train)\n",
        "X_test_scaled = scaler.transform(X_test)"
      ],
      "metadata": {
        "id": "FJN1I_aV6V8m"
      },
      "execution_count": 42,
      "outputs": []
    },
    {
      "cell_type": "code",
      "source": [
        "logistic = LogisticRegression(max_iter=1000, random_state=42)"
      ],
      "metadata": {
        "id": "tI2_M7qu6vnm"
      },
      "execution_count": 43,
      "outputs": []
    },
    {
      "cell_type": "code",
      "source": [
        "logistic.fit(X_train_scaled, y_train)"
      ],
      "metadata": {
        "colab": {
          "base_uri": "https://localhost:8080/",
          "height": 213
        },
        "id": "Yn3h2CcD65AY",
        "outputId": "00d15ddf-7b9e-462d-c208-74e60a7b839f"
      },
      "execution_count": 44,
      "outputs": [
        {
          "output_type": "stream",
          "name": "stderr",
          "text": [
            "/usr/local/lib/python3.10/dist-packages/sklearn/linear_model/_logistic.py:458: ConvergenceWarning: lbfgs failed to converge (status=1):\n",
            "STOP: TOTAL NO. of ITERATIONS REACHED LIMIT.\n",
            "\n",
            "Increase the number of iterations (max_iter) or scale the data as shown in:\n",
            "    https://scikit-learn.org/stable/modules/preprocessing.html\n",
            "Please also refer to the documentation for alternative solver options:\n",
            "    https://scikit-learn.org/stable/modules/linear_model.html#logistic-regression\n",
            "  n_iter_i = _check_optimize_result(\n"
          ]
        },
        {
          "output_type": "execute_result",
          "data": {
            "text/plain": [
              "LogisticRegression(max_iter=1000, random_state=42)"
            ],
            "text/html": [
              "<style>#sk-container-id-5 {color: black;background-color: white;}#sk-container-id-5 pre{padding: 0;}#sk-container-id-5 div.sk-toggleable {background-color: white;}#sk-container-id-5 label.sk-toggleable__label {cursor: pointer;display: block;width: 100%;margin-bottom: 0;padding: 0.3em;box-sizing: border-box;text-align: center;}#sk-container-id-5 label.sk-toggleable__label-arrow:before {content: \"▸\";float: left;margin-right: 0.25em;color: #696969;}#sk-container-id-5 label.sk-toggleable__label-arrow:hover:before {color: black;}#sk-container-id-5 div.sk-estimator:hover label.sk-toggleable__label-arrow:before {color: black;}#sk-container-id-5 div.sk-toggleable__content {max-height: 0;max-width: 0;overflow: hidden;text-align: left;background-color: #f0f8ff;}#sk-container-id-5 div.sk-toggleable__content pre {margin: 0.2em;color: black;border-radius: 0.25em;background-color: #f0f8ff;}#sk-container-id-5 input.sk-toggleable__control:checked~div.sk-toggleable__content {max-height: 200px;max-width: 100%;overflow: auto;}#sk-container-id-5 input.sk-toggleable__control:checked~label.sk-toggleable__label-arrow:before {content: \"▾\";}#sk-container-id-5 div.sk-estimator input.sk-toggleable__control:checked~label.sk-toggleable__label {background-color: #d4ebff;}#sk-container-id-5 div.sk-label input.sk-toggleable__control:checked~label.sk-toggleable__label {background-color: #d4ebff;}#sk-container-id-5 input.sk-hidden--visually {border: 0;clip: rect(1px 1px 1px 1px);clip: rect(1px, 1px, 1px, 1px);height: 1px;margin: -1px;overflow: hidden;padding: 0;position: absolute;width: 1px;}#sk-container-id-5 div.sk-estimator {font-family: monospace;background-color: #f0f8ff;border: 1px dotted black;border-radius: 0.25em;box-sizing: border-box;margin-bottom: 0.5em;}#sk-container-id-5 div.sk-estimator:hover {background-color: #d4ebff;}#sk-container-id-5 div.sk-parallel-item::after {content: \"\";width: 100%;border-bottom: 1px solid gray;flex-grow: 1;}#sk-container-id-5 div.sk-label:hover label.sk-toggleable__label {background-color: #d4ebff;}#sk-container-id-5 div.sk-serial::before {content: \"\";position: absolute;border-left: 1px solid gray;box-sizing: border-box;top: 0;bottom: 0;left: 50%;z-index: 0;}#sk-container-id-5 div.sk-serial {display: flex;flex-direction: column;align-items: center;background-color: white;padding-right: 0.2em;padding-left: 0.2em;position: relative;}#sk-container-id-5 div.sk-item {position: relative;z-index: 1;}#sk-container-id-5 div.sk-parallel {display: flex;align-items: stretch;justify-content: center;background-color: white;position: relative;}#sk-container-id-5 div.sk-item::before, #sk-container-id-5 div.sk-parallel-item::before {content: \"\";position: absolute;border-left: 1px solid gray;box-sizing: border-box;top: 0;bottom: 0;left: 50%;z-index: -1;}#sk-container-id-5 div.sk-parallel-item {display: flex;flex-direction: column;z-index: 1;position: relative;background-color: white;}#sk-container-id-5 div.sk-parallel-item:first-child::after {align-self: flex-end;width: 50%;}#sk-container-id-5 div.sk-parallel-item:last-child::after {align-self: flex-start;width: 50%;}#sk-container-id-5 div.sk-parallel-item:only-child::after {width: 0;}#sk-container-id-5 div.sk-dashed-wrapped {border: 1px dashed gray;margin: 0 0.4em 0.5em 0.4em;box-sizing: border-box;padding-bottom: 0.4em;background-color: white;}#sk-container-id-5 div.sk-label label {font-family: monospace;font-weight: bold;display: inline-block;line-height: 1.2em;}#sk-container-id-5 div.sk-label-container {text-align: center;}#sk-container-id-5 div.sk-container {/* jupyter's `normalize.less` sets `[hidden] { display: none; }` but bootstrap.min.css set `[hidden] { display: none !important; }` so we also need the `!important` here to be able to override the default hidden behavior on the sphinx rendered scikit-learn.org. See: https://github.com/scikit-learn/scikit-learn/issues/21755 */display: inline-block !important;position: relative;}#sk-container-id-5 div.sk-text-repr-fallback {display: none;}</style><div id=\"sk-container-id-5\" class=\"sk-top-container\"><div class=\"sk-text-repr-fallback\"><pre>LogisticRegression(max_iter=1000, random_state=42)</pre><b>In a Jupyter environment, please rerun this cell to show the HTML representation or trust the notebook. <br />On GitHub, the HTML representation is unable to render, please try loading this page with nbviewer.org.</b></div><div class=\"sk-container\" hidden><div class=\"sk-item\"><div class=\"sk-estimator sk-toggleable\"><input class=\"sk-toggleable__control sk-hidden--visually\" id=\"sk-estimator-id-5\" type=\"checkbox\" checked><label for=\"sk-estimator-id-5\" class=\"sk-toggleable__label sk-toggleable__label-arrow\">LogisticRegression</label><div class=\"sk-toggleable__content\"><pre>LogisticRegression(max_iter=1000, random_state=42)</pre></div></div></div></div></div>"
            ]
          },
          "metadata": {},
          "execution_count": 44
        }
      ]
    },
    {
      "cell_type": "code",
      "source": [
        "y_pred = logistic.predict(X_test_scaled)\n",
        "print(f\"Accuracy: {accuracy_score(y_test, y_pred)}\")\n",
        "\n",
        "report_logistic_dict = classification_report(y_test, y_pred, output_dict=True)\n",
        "\n",
        "print(report_logistic_dict)"
      ],
      "metadata": {
        "colab": {
          "base_uri": "https://localhost:8080/"
        },
        "id": "4JCHWcaC7HYW",
        "outputId": "0d67c741-49e3-4b71-d1da-f9d97fa27616"
      },
      "execution_count": 45,
      "outputs": [
        {
          "output_type": "stream",
          "name": "stdout",
          "text": [
            "Accuracy: 0.6303630363036303\n",
            "{'0': {'precision': 0.7142857142857143, 'recall': 0.625, 'f1-score': 0.6666666666666666, 'support': 8}, '1': {'precision': 0.6666666666666666, 'recall': 0.6666666666666666, 'f1-score': 0.6666666666666666, 'support': 3}, '2': {'precision': 1.0, 'recall': 0.6666666666666666, 'f1-score': 0.8, 'support': 3}, '3': {'precision': 0.3333333333333333, 'recall': 0.25, 'f1-score': 0.28571428571428575, 'support': 4}, '4': {'precision': 0.0, 'recall': 0.0, 'f1-score': 0.0, 'support': 2}, '5': {'precision': 0.8, 'recall': 0.6666666666666666, 'f1-score': 0.7272727272727272, 'support': 6}, '6': {'precision': 0.0, 'recall': 0.0, 'f1-score': 0.0, 'support': 6}, '7': {'precision': 0.6666666666666666, 'recall': 0.6666666666666666, 'f1-score': 0.6666666666666666, 'support': 3}, '8': {'precision': 0.6666666666666666, 'recall': 0.8, 'f1-score': 0.7272727272727272, 'support': 5}, '9': {'precision': 0.6666666666666666, 'recall': 0.6666666666666666, 'f1-score': 0.6666666666666666, 'support': 3}, '10': {'precision': 0.8, 'recall': 0.7777777777777778, 'f1-score': 0.7887323943661971, 'support': 36}, '11': {'precision': 0.3333333333333333, 'recall': 0.5, 'f1-score': 0.4, 'support': 2}, '12': {'precision': 0.6428571428571429, 'recall': 0.6, 'f1-score': 0.6206896551724138, 'support': 15}, '13': {'precision': 1.0, 'recall': 1.0, 'f1-score': 1.0, 'support': 3}, '14': {'precision': 0.6610169491525424, 'recall': 0.8666666666666667, 'f1-score': 0.7500000000000001, 'support': 45}, '15': {'precision': 0.5, 'recall': 0.875, 'f1-score': 0.6363636363636364, 'support': 8}, '16': {'precision': 1.0, 'recall': 0.875, 'f1-score': 0.9333333333333333, 'support': 8}, '17': {'precision': 0.0, 'recall': 0.0, 'f1-score': 0.0, 'support': 1}, '18': {'precision': 0.75, 'recall': 1.0, 'f1-score': 0.8571428571428571, 'support': 3}, '19': {'precision': 1.0, 'recall': 0.3333333333333333, 'f1-score': 0.5, 'support': 3}, '20': {'precision': 0.5, 'recall': 0.3333333333333333, 'f1-score': 0.4, 'support': 3}, '21': {'precision': 0.7777777777777778, 'recall': 0.7777777777777778, 'f1-score': 0.7777777777777778, 'support': 9}, '22': {'precision': 0.0, 'recall': 0.0, 'f1-score': 0.0, 'support': 0}, '23': {'precision': 0.0, 'recall': 0.0, 'f1-score': 0.0, 'support': 0}, '24': {'precision': 0.75, 'recall': 0.5, 'f1-score': 0.6, 'support': 6}, '25': {'precision': 0.4, 'recall': 0.6666666666666666, 'f1-score': 0.5, 'support': 3}, '26': {'precision': 0.5, 'recall': 0.25, 'f1-score': 0.3333333333333333, 'support': 4}, '27': {'precision': 0.3333333333333333, 'recall': 1.0, 'f1-score': 0.5, 'support': 1}, '28': {'precision': 0.0, 'recall': 0.0, 'f1-score': 0.0, 'support': 0}, '29': {'precision': 0.5, 'recall': 0.3333333333333333, 'f1-score': 0.4, 'support': 6}, '30': {'precision': 1.0, 'recall': 1.0, 'f1-score': 1.0, 'support': 1}, '31': {'precision': 0.75, 'recall': 0.6, 'f1-score': 0.6666666666666665, 'support': 5}, '32': {'precision': 0.0, 'recall': 0.0, 'f1-score': 0.0, 'support': 2}, '33': {'precision': 1.0, 'recall': 1.0, 'f1-score': 1.0, 'support': 1}, '34': {'precision': 1.0, 'recall': 0.5, 'f1-score': 0.6666666666666666, 'support': 4}, '35': {'precision': 1.0, 'recall': 1.0, 'f1-score': 1.0, 'support': 5}, '36': {'precision': 0.25, 'recall': 0.3333333333333333, 'f1-score': 0.28571428571428575, 'support': 3}, '37': {'precision': 0.5, 'recall': 1.0, 'f1-score': 0.6666666666666666, 'support': 3}, '38': {'precision': 0.5, 'recall': 0.5, 'f1-score': 0.5, 'support': 2}, '39': {'precision': 1.0, 'recall': 0.6666666666666666, 'f1-score': 0.8, 'support': 3}, '40': {'precision': 0.5, 'recall': 1.0, 'f1-score': 0.6666666666666666, 'support': 2}, '41': {'precision': 0.5, 'recall': 1.0, 'f1-score': 0.6666666666666666, 'support': 1}, '42': {'precision': 1.0, 'recall': 0.5, 'f1-score': 0.6666666666666666, 'support': 4}, '43': {'precision': 0.0, 'recall': 0.0, 'f1-score': 0.0, 'support': 1}, '44': {'precision': 1.0, 'recall': 0.75, 'f1-score': 0.8571428571428571, 'support': 4}, '45': {'precision': 1.0, 'recall': 0.25, 'f1-score': 0.4, 'support': 4}, '46': {'precision': 0.0, 'recall': 0.0, 'f1-score': 0.0, 'support': 2}, '47': {'precision': 0.5, 'recall': 0.3333333333333333, 'f1-score': 0.4, 'support': 3}, '48': {'precision': 0.0, 'recall': 0.0, 'f1-score': 0.0, 'support': 2}, '49': {'precision': 0.25, 'recall': 0.5, 'f1-score': 0.3333333333333333, 'support': 2}, '51': {'precision': 0.0, 'recall': 0.0, 'f1-score': 0.0, 'support': 1}, '52': {'precision': 1.0, 'recall': 1.0, 'f1-score': 1.0, 'support': 2}, '53': {'precision': 0.8, 'recall': 0.8, 'f1-score': 0.8000000000000002, 'support': 5}, '54': {'precision': 0.0, 'recall': 0.0, 'f1-score': 0.0, 'support': 5}, '55': {'precision': 0.3333333333333333, 'recall': 1.0, 'f1-score': 0.5, 'support': 1}, '56': {'precision': 0.0, 'recall': 0.0, 'f1-score': 0.0, 'support': 2}, '57': {'precision': 1.0, 'recall': 0.3333333333333333, 'f1-score': 0.5, 'support': 3}, '58': {'precision': 0.5, 'recall': 0.5714285714285714, 'f1-score': 0.5333333333333333, 'support': 14}, '59': {'precision': 0.8, 'recall': 0.8, 'f1-score': 0.8000000000000002, 'support': 5}, '60': {'precision': 0.2857142857142857, 'recall': 0.25, 'f1-score': 0.26666666666666666, 'support': 8}, '61': {'precision': 0.6666666666666666, 'recall': 0.5, 'f1-score': 0.5714285714285715, 'support': 4}, 'accuracy': 0.6303630363036303, 'macro avg': {'precision': 0.5425953858435102, 'recall': 0.5227101223002862, 'f1-score': 0.504129810525164, 'support': 303}, 'weighted avg': {'precision': 0.6422616716877498, 'recall': 0.6303630363036303, 'f1-score': 0.6171551190364994, 'support': 303}}\n"
          ]
        },
        {
          "output_type": "stream",
          "name": "stderr",
          "text": [
            "/usr/local/lib/python3.10/dist-packages/sklearn/metrics/_classification.py:1344: UndefinedMetricWarning: Precision and F-score are ill-defined and being set to 0.0 in labels with no predicted samples. Use `zero_division` parameter to control this behavior.\n",
            "  _warn_prf(average, modifier, msg_start, len(result))\n",
            "/usr/local/lib/python3.10/dist-packages/sklearn/metrics/_classification.py:1344: UndefinedMetricWarning: Recall and F-score are ill-defined and being set to 0.0 in labels with no true samples. Use `zero_division` parameter to control this behavior.\n",
            "  _warn_prf(average, modifier, msg_start, len(result))\n",
            "/usr/local/lib/python3.10/dist-packages/sklearn/metrics/_classification.py:1344: UndefinedMetricWarning: Precision and F-score are ill-defined and being set to 0.0 in labels with no predicted samples. Use `zero_division` parameter to control this behavior.\n",
            "  _warn_prf(average, modifier, msg_start, len(result))\n",
            "/usr/local/lib/python3.10/dist-packages/sklearn/metrics/_classification.py:1344: UndefinedMetricWarning: Recall and F-score are ill-defined and being set to 0.0 in labels with no true samples. Use `zero_division` parameter to control this behavior.\n",
            "  _warn_prf(average, modifier, msg_start, len(result))\n",
            "/usr/local/lib/python3.10/dist-packages/sklearn/metrics/_classification.py:1344: UndefinedMetricWarning: Precision and F-score are ill-defined and being set to 0.0 in labels with no predicted samples. Use `zero_division` parameter to control this behavior.\n",
            "  _warn_prf(average, modifier, msg_start, len(result))\n",
            "/usr/local/lib/python3.10/dist-packages/sklearn/metrics/_classification.py:1344: UndefinedMetricWarning: Recall and F-score are ill-defined and being set to 0.0 in labels with no true samples. Use `zero_division` parameter to control this behavior.\n",
            "  _warn_prf(average, modifier, msg_start, len(result))\n"
          ]
        }
      ]
    },
    {
      "cell_type": "markdown",
      "source": [
        "# SVM"
      ],
      "metadata": {
        "id": "b1E7M0IV7s32"
      }
    },
    {
      "cell_type": "code",
      "source": [
        "X_train, X_test, y_train, y_test = train_test_split(X, y, test_size=0.1, random_state=42)"
      ],
      "metadata": {
        "id": "JCIbe5hC8dKp"
      },
      "execution_count": 46,
      "outputs": []
    },
    {
      "cell_type": "code",
      "source": [
        "scaler = StandardScaler()\n",
        "X_train_scaled = scaler.fit_transform(X_train)\n",
        "X_test_scaled = scaler.transform(X_test)"
      ],
      "metadata": {
        "id": "I9vGucBg8iDe"
      },
      "execution_count": 47,
      "outputs": []
    },
    {
      "cell_type": "code",
      "source": [
        "svc = SVC(kernel='linear', random_state=42)"
      ],
      "metadata": {
        "id": "yJhU1J9_8zIX"
      },
      "execution_count": 48,
      "outputs": []
    },
    {
      "cell_type": "code",
      "source": [
        "svc.fit(X_train_scaled, y_train)"
      ],
      "metadata": {
        "colab": {
          "base_uri": "https://localhost:8080/",
          "height": 74
        },
        "id": "noMbHB1L83zP",
        "outputId": "453c1e0f-86cb-4efd-e3c4-c77fce4a4969"
      },
      "execution_count": 49,
      "outputs": [
        {
          "output_type": "execute_result",
          "data": {
            "text/plain": [
              "SVC(kernel='linear', random_state=42)"
            ],
            "text/html": [
              "<style>#sk-container-id-6 {color: black;background-color: white;}#sk-container-id-6 pre{padding: 0;}#sk-container-id-6 div.sk-toggleable {background-color: white;}#sk-container-id-6 label.sk-toggleable__label {cursor: pointer;display: block;width: 100%;margin-bottom: 0;padding: 0.3em;box-sizing: border-box;text-align: center;}#sk-container-id-6 label.sk-toggleable__label-arrow:before {content: \"▸\";float: left;margin-right: 0.25em;color: #696969;}#sk-container-id-6 label.sk-toggleable__label-arrow:hover:before {color: black;}#sk-container-id-6 div.sk-estimator:hover label.sk-toggleable__label-arrow:before {color: black;}#sk-container-id-6 div.sk-toggleable__content {max-height: 0;max-width: 0;overflow: hidden;text-align: left;background-color: #f0f8ff;}#sk-container-id-6 div.sk-toggleable__content pre {margin: 0.2em;color: black;border-radius: 0.25em;background-color: #f0f8ff;}#sk-container-id-6 input.sk-toggleable__control:checked~div.sk-toggleable__content {max-height: 200px;max-width: 100%;overflow: auto;}#sk-container-id-6 input.sk-toggleable__control:checked~label.sk-toggleable__label-arrow:before {content: \"▾\";}#sk-container-id-6 div.sk-estimator input.sk-toggleable__control:checked~label.sk-toggleable__label {background-color: #d4ebff;}#sk-container-id-6 div.sk-label input.sk-toggleable__control:checked~label.sk-toggleable__label {background-color: #d4ebff;}#sk-container-id-6 input.sk-hidden--visually {border: 0;clip: rect(1px 1px 1px 1px);clip: rect(1px, 1px, 1px, 1px);height: 1px;margin: -1px;overflow: hidden;padding: 0;position: absolute;width: 1px;}#sk-container-id-6 div.sk-estimator {font-family: monospace;background-color: #f0f8ff;border: 1px dotted black;border-radius: 0.25em;box-sizing: border-box;margin-bottom: 0.5em;}#sk-container-id-6 div.sk-estimator:hover {background-color: #d4ebff;}#sk-container-id-6 div.sk-parallel-item::after {content: \"\";width: 100%;border-bottom: 1px solid gray;flex-grow: 1;}#sk-container-id-6 div.sk-label:hover label.sk-toggleable__label {background-color: #d4ebff;}#sk-container-id-6 div.sk-serial::before {content: \"\";position: absolute;border-left: 1px solid gray;box-sizing: border-box;top: 0;bottom: 0;left: 50%;z-index: 0;}#sk-container-id-6 div.sk-serial {display: flex;flex-direction: column;align-items: center;background-color: white;padding-right: 0.2em;padding-left: 0.2em;position: relative;}#sk-container-id-6 div.sk-item {position: relative;z-index: 1;}#sk-container-id-6 div.sk-parallel {display: flex;align-items: stretch;justify-content: center;background-color: white;position: relative;}#sk-container-id-6 div.sk-item::before, #sk-container-id-6 div.sk-parallel-item::before {content: \"\";position: absolute;border-left: 1px solid gray;box-sizing: border-box;top: 0;bottom: 0;left: 50%;z-index: -1;}#sk-container-id-6 div.sk-parallel-item {display: flex;flex-direction: column;z-index: 1;position: relative;background-color: white;}#sk-container-id-6 div.sk-parallel-item:first-child::after {align-self: flex-end;width: 50%;}#sk-container-id-6 div.sk-parallel-item:last-child::after {align-self: flex-start;width: 50%;}#sk-container-id-6 div.sk-parallel-item:only-child::after {width: 0;}#sk-container-id-6 div.sk-dashed-wrapped {border: 1px dashed gray;margin: 0 0.4em 0.5em 0.4em;box-sizing: border-box;padding-bottom: 0.4em;background-color: white;}#sk-container-id-6 div.sk-label label {font-family: monospace;font-weight: bold;display: inline-block;line-height: 1.2em;}#sk-container-id-6 div.sk-label-container {text-align: center;}#sk-container-id-6 div.sk-container {/* jupyter's `normalize.less` sets `[hidden] { display: none; }` but bootstrap.min.css set `[hidden] { display: none !important; }` so we also need the `!important` here to be able to override the default hidden behavior on the sphinx rendered scikit-learn.org. See: https://github.com/scikit-learn/scikit-learn/issues/21755 */display: inline-block !important;position: relative;}#sk-container-id-6 div.sk-text-repr-fallback {display: none;}</style><div id=\"sk-container-id-6\" class=\"sk-top-container\"><div class=\"sk-text-repr-fallback\"><pre>SVC(kernel=&#x27;linear&#x27;, random_state=42)</pre><b>In a Jupyter environment, please rerun this cell to show the HTML representation or trust the notebook. <br />On GitHub, the HTML representation is unable to render, please try loading this page with nbviewer.org.</b></div><div class=\"sk-container\" hidden><div class=\"sk-item\"><div class=\"sk-estimator sk-toggleable\"><input class=\"sk-toggleable__control sk-hidden--visually\" id=\"sk-estimator-id-6\" type=\"checkbox\" checked><label for=\"sk-estimator-id-6\" class=\"sk-toggleable__label sk-toggleable__label-arrow\">SVC</label><div class=\"sk-toggleable__content\"><pre>SVC(kernel=&#x27;linear&#x27;, random_state=42)</pre></div></div></div></div></div>"
            ]
          },
          "metadata": {},
          "execution_count": 49
        }
      ]
    },
    {
      "cell_type": "code",
      "source": [
        "y_pred = svc.predict(X_test_scaled)\n",
        "print(f\"Accuracy: {accuracy_score(y_test, y_pred)}\")\n",
        "report_svm_dict = classification_report(y_test, y_pred, output_dict=True)\n",
        "\n",
        "print(report_svm_dict)"
      ],
      "metadata": {
        "colab": {
          "base_uri": "https://localhost:8080/"
        },
        "id": "c5nXAHmM86H6",
        "outputId": "47d5f8d4-3ab1-4590-9b7f-f23ab5e5c1e8"
      },
      "execution_count": 50,
      "outputs": [
        {
          "output_type": "stream",
          "name": "stdout",
          "text": [
            "Accuracy: 0.6237623762376238\n",
            "{'0': {'precision': 0.625, 'recall': 0.625, 'f1-score': 0.625, 'support': 8}, '1': {'precision': 0.5, 'recall': 0.6666666666666666, 'f1-score': 0.5714285714285715, 'support': 3}, '2': {'precision': 1.0, 'recall': 0.6666666666666666, 'f1-score': 0.8, 'support': 3}, '3': {'precision': 0.25, 'recall': 0.25, 'f1-score': 0.25, 'support': 4}, '4': {'precision': 0.0, 'recall': 0.0, 'f1-score': 0.0, 'support': 2}, '5': {'precision': 0.75, 'recall': 0.5, 'f1-score': 0.6, 'support': 6}, '6': {'precision': 1.0, 'recall': 0.16666666666666666, 'f1-score': 0.2857142857142857, 'support': 6}, '7': {'precision': 0.6666666666666666, 'recall': 0.6666666666666666, 'f1-score': 0.6666666666666666, 'support': 3}, '8': {'precision': 0.4, 'recall': 0.4, 'f1-score': 0.4000000000000001, 'support': 5}, '9': {'precision': 0.6666666666666666, 'recall': 0.6666666666666666, 'f1-score': 0.6666666666666666, 'support': 3}, '10': {'precision': 0.8285714285714286, 'recall': 0.8055555555555556, 'f1-score': 0.8169014084507044, 'support': 36}, '11': {'precision': 0.5, 'recall': 0.5, 'f1-score': 0.5, 'support': 2}, '12': {'precision': 0.7857142857142857, 'recall': 0.7333333333333333, 'f1-score': 0.7586206896551724, 'support': 15}, '13': {'precision': 1.0, 'recall': 0.6666666666666666, 'f1-score': 0.8, 'support': 3}, '14': {'precision': 0.6153846153846154, 'recall': 0.8888888888888888, 'f1-score': 0.7272727272727274, 'support': 45}, '15': {'precision': 0.42857142857142855, 'recall': 0.75, 'f1-score': 0.5454545454545454, 'support': 8}, '16': {'precision': 1.0, 'recall': 0.875, 'f1-score': 0.9333333333333333, 'support': 8}, '17': {'precision': 0.0, 'recall': 0.0, 'f1-score': 0.0, 'support': 1}, '18': {'precision': 0.75, 'recall': 1.0, 'f1-score': 0.8571428571428571, 'support': 3}, '19': {'precision': 1.0, 'recall': 0.3333333333333333, 'f1-score': 0.5, 'support': 3}, '20': {'precision': 0.0, 'recall': 0.0, 'f1-score': 0.0, 'support': 3}, '21': {'precision': 0.7, 'recall': 0.7777777777777778, 'f1-score': 0.7368421052631577, 'support': 9}, '24': {'precision': 0.75, 'recall': 0.5, 'f1-score': 0.6, 'support': 6}, '25': {'precision': 0.5, 'recall': 1.0, 'f1-score': 0.6666666666666666, 'support': 3}, '26': {'precision': 0.5, 'recall': 0.5, 'f1-score': 0.5, 'support': 4}, '27': {'precision': 0.0, 'recall': 0.0, 'f1-score': 0.0, 'support': 1}, '28': {'precision': 0.0, 'recall': 0.0, 'f1-score': 0.0, 'support': 0}, '29': {'precision': 0.6666666666666666, 'recall': 0.6666666666666666, 'f1-score': 0.6666666666666666, 'support': 6}, '30': {'precision': 1.0, 'recall': 1.0, 'f1-score': 1.0, 'support': 1}, '31': {'precision': 0.6, 'recall': 0.6, 'f1-score': 0.6, 'support': 5}, '32': {'precision': 0.0, 'recall': 0.0, 'f1-score': 0.0, 'support': 2}, '33': {'precision': 1.0, 'recall': 1.0, 'f1-score': 1.0, 'support': 1}, '34': {'precision': 1.0, 'recall': 0.5, 'f1-score': 0.6666666666666666, 'support': 4}, '35': {'precision': 0.5714285714285714, 'recall': 0.8, 'f1-score': 0.6666666666666666, 'support': 5}, '36': {'precision': 1.0, 'recall': 0.3333333333333333, 'f1-score': 0.5, 'support': 3}, '37': {'precision': 0.6, 'recall': 1.0, 'f1-score': 0.7499999999999999, 'support': 3}, '38': {'precision': 0.5, 'recall': 0.5, 'f1-score': 0.5, 'support': 2}, '39': {'precision': 0.5, 'recall': 0.3333333333333333, 'f1-score': 0.4, 'support': 3}, '40': {'precision': 0.25, 'recall': 0.5, 'f1-score': 0.3333333333333333, 'support': 2}, '41': {'precision': 0.5, 'recall': 1.0, 'f1-score': 0.6666666666666666, 'support': 1}, '42': {'precision': 1.0, 'recall': 0.5, 'f1-score': 0.6666666666666666, 'support': 4}, '43': {'precision': 0.0, 'recall': 0.0, 'f1-score': 0.0, 'support': 1}, '44': {'precision': 1.0, 'recall': 0.75, 'f1-score': 0.8571428571428571, 'support': 4}, '45': {'precision': 0.5, 'recall': 0.25, 'f1-score': 0.3333333333333333, 'support': 4}, '46': {'precision': 0.0, 'recall': 0.0, 'f1-score': 0.0, 'support': 2}, '47': {'precision': 0.0, 'recall': 0.0, 'f1-score': 0.0, 'support': 3}, '48': {'precision': 0.0, 'recall': 0.0, 'f1-score': 0.0, 'support': 2}, '49': {'precision': 1.0, 'recall': 0.5, 'f1-score': 0.6666666666666666, 'support': 2}, '51': {'precision': 0.0, 'recall': 0.0, 'f1-score': 0.0, 'support': 1}, '52': {'precision': 1.0, 'recall': 1.0, 'f1-score': 1.0, 'support': 2}, '53': {'precision': 0.8, 'recall': 0.8, 'f1-score': 0.8000000000000002, 'support': 5}, '54': {'precision': 0.0, 'recall': 0.0, 'f1-score': 0.0, 'support': 5}, '55': {'precision': 0.3333333333333333, 'recall': 1.0, 'f1-score': 0.5, 'support': 1}, '56': {'precision': 0.0, 'recall': 0.0, 'f1-score': 0.0, 'support': 2}, '57': {'precision': 0.5, 'recall': 0.3333333333333333, 'f1-score': 0.4, 'support': 3}, '58': {'precision': 0.6923076923076923, 'recall': 0.6428571428571429, 'f1-score': 0.6666666666666666, 'support': 14}, '59': {'precision': 0.8, 'recall': 0.8, 'f1-score': 0.8000000000000002, 'support': 5}, '60': {'precision': 0.4, 'recall': 0.25, 'f1-score': 0.3076923076923077, 'support': 8}, '61': {'precision': 1.0, 'recall': 0.25, 'f1-score': 0.4, 'support': 4}, 'accuracy': 0.6237623762376238, 'macro avg': {'precision': 0.5496662941578196, 'recall': 0.49573580844767284, 'f1-score': 0.49077761054040425, 'support': 303}, 'weighted avg': {'precision': 0.6474189726664974, 'recall': 0.6237623762376238, 'f1-score': 0.6092971143369869, 'support': 303}}\n"
          ]
        },
        {
          "output_type": "stream",
          "name": "stderr",
          "text": [
            "/usr/local/lib/python3.10/dist-packages/sklearn/metrics/_classification.py:1344: UndefinedMetricWarning: Precision and F-score are ill-defined and being set to 0.0 in labels with no predicted samples. Use `zero_division` parameter to control this behavior.\n",
            "  _warn_prf(average, modifier, msg_start, len(result))\n",
            "/usr/local/lib/python3.10/dist-packages/sklearn/metrics/_classification.py:1344: UndefinedMetricWarning: Recall and F-score are ill-defined and being set to 0.0 in labels with no true samples. Use `zero_division` parameter to control this behavior.\n",
            "  _warn_prf(average, modifier, msg_start, len(result))\n",
            "/usr/local/lib/python3.10/dist-packages/sklearn/metrics/_classification.py:1344: UndefinedMetricWarning: Precision and F-score are ill-defined and being set to 0.0 in labels with no predicted samples. Use `zero_division` parameter to control this behavior.\n",
            "  _warn_prf(average, modifier, msg_start, len(result))\n",
            "/usr/local/lib/python3.10/dist-packages/sklearn/metrics/_classification.py:1344: UndefinedMetricWarning: Recall and F-score are ill-defined and being set to 0.0 in labels with no true samples. Use `zero_division` parameter to control this behavior.\n",
            "  _warn_prf(average, modifier, msg_start, len(result))\n",
            "/usr/local/lib/python3.10/dist-packages/sklearn/metrics/_classification.py:1344: UndefinedMetricWarning: Precision and F-score are ill-defined and being set to 0.0 in labels with no predicted samples. Use `zero_division` parameter to control this behavior.\n",
            "  _warn_prf(average, modifier, msg_start, len(result))\n",
            "/usr/local/lib/python3.10/dist-packages/sklearn/metrics/_classification.py:1344: UndefinedMetricWarning: Recall and F-score are ill-defined and being set to 0.0 in labels with no true samples. Use `zero_division` parameter to control this behavior.\n",
            "  _warn_prf(average, modifier, msg_start, len(result))\n"
          ]
        }
      ]
    },
    {
      "cell_type": "markdown",
      "source": [
        "# KPCA"
      ],
      "metadata": {
        "id": "4NqMnqIn-M_m"
      }
    },
    {
      "cell_type": "code",
      "source": [
        "X_train, X_test, y_train, y_test = train_test_split(X, y, test_size=0.1, random_state=42)"
      ],
      "metadata": {
        "id": "MHSqsjlP-z-m"
      },
      "execution_count": 51,
      "outputs": []
    },
    {
      "cell_type": "code",
      "source": [
        "scaler = StandardScaler()\n",
        "X_train_scaled = scaler.fit_transform(X_train)\n",
        "X_test_scaled = scaler.transform(X_test)"
      ],
      "metadata": {
        "id": "P3O31D0z9ULv"
      },
      "execution_count": 52,
      "outputs": []
    },
    {
      "cell_type": "code",
      "source": [
        "kpca = KernelPCA(n_components=100, kernel='rbf', fit_inverse_transform=True, random_state=42)\n",
        "X_train_kpca = kpca.fit_transform(X_train_scaled)\n",
        "X_test_kpca = kpca.transform(X_test_scaled)"
      ],
      "metadata": {
        "id": "g4gbHWg7NVKb"
      },
      "execution_count": 53,
      "outputs": []
    },
    {
      "cell_type": "code",
      "source": [
        "svm_model = SVC(kernel='rbf', class_weight='balanced', random_state=42)\n",
        "svm_model.fit(X_train_kpca, y_train)"
      ],
      "metadata": {
        "colab": {
          "base_uri": "https://localhost:8080/",
          "height": 74
        },
        "id": "TKNjyOvuOCil",
        "outputId": "eb5dc1f1-228f-4c08-c8a9-f89f9424790e"
      },
      "execution_count": 54,
      "outputs": [
        {
          "output_type": "execute_result",
          "data": {
            "text/plain": [
              "SVC(class_weight='balanced', random_state=42)"
            ],
            "text/html": [
              "<style>#sk-container-id-7 {color: black;background-color: white;}#sk-container-id-7 pre{padding: 0;}#sk-container-id-7 div.sk-toggleable {background-color: white;}#sk-container-id-7 label.sk-toggleable__label {cursor: pointer;display: block;width: 100%;margin-bottom: 0;padding: 0.3em;box-sizing: border-box;text-align: center;}#sk-container-id-7 label.sk-toggleable__label-arrow:before {content: \"▸\";float: left;margin-right: 0.25em;color: #696969;}#sk-container-id-7 label.sk-toggleable__label-arrow:hover:before {color: black;}#sk-container-id-7 div.sk-estimator:hover label.sk-toggleable__label-arrow:before {color: black;}#sk-container-id-7 div.sk-toggleable__content {max-height: 0;max-width: 0;overflow: hidden;text-align: left;background-color: #f0f8ff;}#sk-container-id-7 div.sk-toggleable__content pre {margin: 0.2em;color: black;border-radius: 0.25em;background-color: #f0f8ff;}#sk-container-id-7 input.sk-toggleable__control:checked~div.sk-toggleable__content {max-height: 200px;max-width: 100%;overflow: auto;}#sk-container-id-7 input.sk-toggleable__control:checked~label.sk-toggleable__label-arrow:before {content: \"▾\";}#sk-container-id-7 div.sk-estimator input.sk-toggleable__control:checked~label.sk-toggleable__label {background-color: #d4ebff;}#sk-container-id-7 div.sk-label input.sk-toggleable__control:checked~label.sk-toggleable__label {background-color: #d4ebff;}#sk-container-id-7 input.sk-hidden--visually {border: 0;clip: rect(1px 1px 1px 1px);clip: rect(1px, 1px, 1px, 1px);height: 1px;margin: -1px;overflow: hidden;padding: 0;position: absolute;width: 1px;}#sk-container-id-7 div.sk-estimator {font-family: monospace;background-color: #f0f8ff;border: 1px dotted black;border-radius: 0.25em;box-sizing: border-box;margin-bottom: 0.5em;}#sk-container-id-7 div.sk-estimator:hover {background-color: #d4ebff;}#sk-container-id-7 div.sk-parallel-item::after {content: \"\";width: 100%;border-bottom: 1px solid gray;flex-grow: 1;}#sk-container-id-7 div.sk-label:hover label.sk-toggleable__label {background-color: #d4ebff;}#sk-container-id-7 div.sk-serial::before {content: \"\";position: absolute;border-left: 1px solid gray;box-sizing: border-box;top: 0;bottom: 0;left: 50%;z-index: 0;}#sk-container-id-7 div.sk-serial {display: flex;flex-direction: column;align-items: center;background-color: white;padding-right: 0.2em;padding-left: 0.2em;position: relative;}#sk-container-id-7 div.sk-item {position: relative;z-index: 1;}#sk-container-id-7 div.sk-parallel {display: flex;align-items: stretch;justify-content: center;background-color: white;position: relative;}#sk-container-id-7 div.sk-item::before, #sk-container-id-7 div.sk-parallel-item::before {content: \"\";position: absolute;border-left: 1px solid gray;box-sizing: border-box;top: 0;bottom: 0;left: 50%;z-index: -1;}#sk-container-id-7 div.sk-parallel-item {display: flex;flex-direction: column;z-index: 1;position: relative;background-color: white;}#sk-container-id-7 div.sk-parallel-item:first-child::after {align-self: flex-end;width: 50%;}#sk-container-id-7 div.sk-parallel-item:last-child::after {align-self: flex-start;width: 50%;}#sk-container-id-7 div.sk-parallel-item:only-child::after {width: 0;}#sk-container-id-7 div.sk-dashed-wrapped {border: 1px dashed gray;margin: 0 0.4em 0.5em 0.4em;box-sizing: border-box;padding-bottom: 0.4em;background-color: white;}#sk-container-id-7 div.sk-label label {font-family: monospace;font-weight: bold;display: inline-block;line-height: 1.2em;}#sk-container-id-7 div.sk-label-container {text-align: center;}#sk-container-id-7 div.sk-container {/* jupyter's `normalize.less` sets `[hidden] { display: none; }` but bootstrap.min.css set `[hidden] { display: none !important; }` so we also need the `!important` here to be able to override the default hidden behavior on the sphinx rendered scikit-learn.org. See: https://github.com/scikit-learn/scikit-learn/issues/21755 */display: inline-block !important;position: relative;}#sk-container-id-7 div.sk-text-repr-fallback {display: none;}</style><div id=\"sk-container-id-7\" class=\"sk-top-container\"><div class=\"sk-text-repr-fallback\"><pre>SVC(class_weight=&#x27;balanced&#x27;, random_state=42)</pre><b>In a Jupyter environment, please rerun this cell to show the HTML representation or trust the notebook. <br />On GitHub, the HTML representation is unable to render, please try loading this page with nbviewer.org.</b></div><div class=\"sk-container\" hidden><div class=\"sk-item\"><div class=\"sk-estimator sk-toggleable\"><input class=\"sk-toggleable__control sk-hidden--visually\" id=\"sk-estimator-id-7\" type=\"checkbox\" checked><label for=\"sk-estimator-id-7\" class=\"sk-toggleable__label sk-toggleable__label-arrow\">SVC</label><div class=\"sk-toggleable__content\"><pre>SVC(class_weight=&#x27;balanced&#x27;, random_state=42)</pre></div></div></div></div></div>"
            ]
          },
          "metadata": {},
          "execution_count": 54
        }
      ]
    },
    {
      "cell_type": "code",
      "source": [
        "y_pred = svm_model.predict(X_test_kpca)\n",
        "print(f\"Accuracy: {accuracy_score(y_test, y_pred)}\")\n",
        "\n",
        "report_kpca_dict = classification_report(y_test, y_pred, output_dict=True)\n",
        "\n",
        "print(report_kpca_dict)"
      ],
      "metadata": {
        "id": "zunG6dYZON9T",
        "outputId": "d303407c-b898-4880-ee88-72f0e388be37",
        "colab": {
          "base_uri": "https://localhost:8080/"
        }
      },
      "execution_count": 55,
      "outputs": [
        {
          "output_type": "stream",
          "name": "stdout",
          "text": [
            "Accuracy: 0.3795379537953795\n",
            "{'0': {'precision': 0.42857142857142855, 'recall': 0.375, 'f1-score': 0.39999999999999997, 'support': 8}, '1': {'precision': 0.5, 'recall': 0.3333333333333333, 'f1-score': 0.4, 'support': 3}, '2': {'precision': 1.0, 'recall': 0.3333333333333333, 'f1-score': 0.5, 'support': 3}, '3': {'precision': 0.2857142857142857, 'recall': 0.5, 'f1-score': 0.36363636363636365, 'support': 4}, '4': {'precision': 0.3333333333333333, 'recall': 0.5, 'f1-score': 0.4, 'support': 2}, '5': {'precision': 0.0, 'recall': 0.0, 'f1-score': 0.0, 'support': 6}, '6': {'precision': 0.42857142857142855, 'recall': 0.5, 'f1-score': 0.4615384615384615, 'support': 6}, '7': {'precision': 1.0, 'recall': 0.6666666666666666, 'f1-score': 0.8, 'support': 3}, '8': {'precision': 0.1111111111111111, 'recall': 0.2, 'f1-score': 0.14285714285714285, 'support': 5}, '9': {'precision': 0.0, 'recall': 0.0, 'f1-score': 0.0, 'support': 3}, '10': {'precision': 0.9375, 'recall': 0.4166666666666667, 'f1-score': 0.5769230769230769, 'support': 36}, '11': {'precision': 0.25, 'recall': 0.5, 'f1-score': 0.3333333333333333, 'support': 2}, '12': {'precision': 1.0, 'recall': 0.4, 'f1-score': 0.5714285714285715, 'support': 15}, '13': {'precision': 0.4, 'recall': 0.6666666666666666, 'f1-score': 0.5, 'support': 3}, '14': {'precision': 0.7777777777777778, 'recall': 0.3111111111111111, 'f1-score': 0.44444444444444436, 'support': 45}, '15': {'precision': 0.25, 'recall': 0.25, 'f1-score': 0.25, 'support': 8}, '16': {'precision': 1.0, 'recall': 0.5, 'f1-score': 0.6666666666666666, 'support': 8}, '17': {'precision': 0.0, 'recall': 0.0, 'f1-score': 0.0, 'support': 1}, '18': {'precision': 0.5, 'recall': 0.6666666666666666, 'f1-score': 0.5714285714285715, 'support': 3}, '19': {'precision': 0.0, 'recall': 0.0, 'f1-score': 0.0, 'support': 3}, '20': {'precision': 0.0, 'recall': 0.0, 'f1-score': 0.0, 'support': 3}, '21': {'precision': 0.5714285714285714, 'recall': 0.4444444444444444, 'f1-score': 0.5, 'support': 9}, '22': {'precision': 0.0, 'recall': 0.0, 'f1-score': 0.0, 'support': 0}, '23': {'precision': 0.0, 'recall': 0.0, 'f1-score': 0.0, 'support': 0}, '24': {'precision': 0.08333333333333333, 'recall': 0.16666666666666666, 'f1-score': 0.1111111111111111, 'support': 6}, '25': {'precision': 0.5, 'recall': 1.0, 'f1-score': 0.6666666666666666, 'support': 3}, '26': {'precision': 0.6666666666666666, 'recall': 0.5, 'f1-score': 0.5714285714285715, 'support': 4}, '27': {'precision': 0.0, 'recall': 0.0, 'f1-score': 0.0, 'support': 1}, '28': {'precision': 0.0, 'recall': 0.0, 'f1-score': 0.0, 'support': 0}, '29': {'precision': 0.5, 'recall': 0.5, 'f1-score': 0.5, 'support': 6}, '30': {'precision': 0.3333333333333333, 'recall': 1.0, 'f1-score': 0.5, 'support': 1}, '31': {'precision': 0.4, 'recall': 0.4, 'f1-score': 0.4000000000000001, 'support': 5}, '32': {'precision': 0.0, 'recall': 0.0, 'f1-score': 0.0, 'support': 2}, '33': {'precision': 0.0, 'recall': 0.0, 'f1-score': 0.0, 'support': 1}, '34': {'precision': 0.3333333333333333, 'recall': 0.5, 'f1-score': 0.4, 'support': 4}, '35': {'precision': 0.5, 'recall': 0.6, 'f1-score': 0.5454545454545454, 'support': 5}, '36': {'precision': 0.2, 'recall': 0.3333333333333333, 'f1-score': 0.25, 'support': 3}, '37': {'precision': 0.6666666666666666, 'recall': 0.6666666666666666, 'f1-score': 0.6666666666666666, 'support': 3}, '38': {'precision': 0.5, 'recall': 0.5, 'f1-score': 0.5, 'support': 2}, '39': {'precision': 0.4, 'recall': 0.6666666666666666, 'f1-score': 0.5, 'support': 3}, '40': {'precision': 0.3333333333333333, 'recall': 1.0, 'f1-score': 0.5, 'support': 2}, '41': {'precision': 0.3333333333333333, 'recall': 1.0, 'f1-score': 0.5, 'support': 1}, '42': {'precision': 0.6666666666666666, 'recall': 0.5, 'f1-score': 0.5714285714285715, 'support': 4}, '43': {'precision': 0.5, 'recall': 1.0, 'f1-score': 0.6666666666666666, 'support': 1}, '44': {'precision': 1.0, 'recall': 0.5, 'f1-score': 0.6666666666666666, 'support': 4}, '45': {'precision': 0.25, 'recall': 0.25, 'f1-score': 0.25, 'support': 4}, '46': {'precision': 0.0, 'recall': 0.0, 'f1-score': 0.0, 'support': 2}, '47': {'precision': 0.0, 'recall': 0.0, 'f1-score': 0.0, 'support': 3}, '48': {'precision': 0.16666666666666666, 'recall': 0.5, 'f1-score': 0.25, 'support': 2}, '49': {'precision': 0.0, 'recall': 0.0, 'f1-score': 0.0, 'support': 2}, '50': {'precision': 0.0, 'recall': 0.0, 'f1-score': 0.0, 'support': 0}, '51': {'precision': 0.0, 'recall': 0.0, 'f1-score': 0.0, 'support': 1}, '52': {'precision': 1.0, 'recall': 0.5, 'f1-score': 0.6666666666666666, 'support': 2}, '53': {'precision': 0.42857142857142855, 'recall': 0.6, 'f1-score': 0.5, 'support': 5}, '54': {'precision': 0.14285714285714285, 'recall': 0.2, 'f1-score': 0.16666666666666666, 'support': 5}, '55': {'precision': 0.3333333333333333, 'recall': 1.0, 'f1-score': 0.5, 'support': 1}, '56': {'precision': 0.0, 'recall': 0.0, 'f1-score': 0.0, 'support': 2}, '57': {'precision': 0.0, 'recall': 0.0, 'f1-score': 0.0, 'support': 3}, '58': {'precision': 0.42105263157894735, 'recall': 0.5714285714285714, 'f1-score': 0.48484848484848486, 'support': 14}, '59': {'precision': 0.6666666666666666, 'recall': 0.4, 'f1-score': 0.5, 'support': 5}, '60': {'precision': 0.2, 'recall': 0.125, 'f1-score': 0.15384615384615385, 'support': 8}, '61': {'precision': 0.5, 'recall': 0.25, 'f1-score': 0.3333333333333333, 'support': 4}, 'accuracy': 0.3795379537953795, 'macro avg': {'precision': 0.3516100398846579, 'recall': 0.36763952892985147, 'f1-score': 0.32586624844689355, 'support': 303}, 'weighted avg': {'precision': 0.5416165551392231, 'recall': 0.3795379537953795, 'f1-score': 0.4117503508592617, 'support': 303}}\n"
          ]
        },
        {
          "output_type": "stream",
          "name": "stderr",
          "text": [
            "/usr/local/lib/python3.10/dist-packages/sklearn/metrics/_classification.py:1344: UndefinedMetricWarning: Precision and F-score are ill-defined and being set to 0.0 in labels with no predicted samples. Use `zero_division` parameter to control this behavior.\n",
            "  _warn_prf(average, modifier, msg_start, len(result))\n",
            "/usr/local/lib/python3.10/dist-packages/sklearn/metrics/_classification.py:1344: UndefinedMetricWarning: Recall and F-score are ill-defined and being set to 0.0 in labels with no true samples. Use `zero_division` parameter to control this behavior.\n",
            "  _warn_prf(average, modifier, msg_start, len(result))\n",
            "/usr/local/lib/python3.10/dist-packages/sklearn/metrics/_classification.py:1344: UndefinedMetricWarning: Precision and F-score are ill-defined and being set to 0.0 in labels with no predicted samples. Use `zero_division` parameter to control this behavior.\n",
            "  _warn_prf(average, modifier, msg_start, len(result))\n",
            "/usr/local/lib/python3.10/dist-packages/sklearn/metrics/_classification.py:1344: UndefinedMetricWarning: Recall and F-score are ill-defined and being set to 0.0 in labels with no true samples. Use `zero_division` parameter to control this behavior.\n",
            "  _warn_prf(average, modifier, msg_start, len(result))\n",
            "/usr/local/lib/python3.10/dist-packages/sklearn/metrics/_classification.py:1344: UndefinedMetricWarning: Precision and F-score are ill-defined and being set to 0.0 in labels with no predicted samples. Use `zero_division` parameter to control this behavior.\n",
            "  _warn_prf(average, modifier, msg_start, len(result))\n",
            "/usr/local/lib/python3.10/dist-packages/sklearn/metrics/_classification.py:1344: UndefinedMetricWarning: Recall and F-score are ill-defined and being set to 0.0 in labels with no true samples. Use `zero_division` parameter to control this behavior.\n",
            "  _warn_prf(average, modifier, msg_start, len(result))\n"
          ]
        }
      ]
    },
    {
      "cell_type": "code",
      "source": [
        "models = ['PCA + KNN', 'Logistic Regression', 'SVM', 'KPCA']\n",
        "reports = [report_knn_dict, report_logistic_dict, report_svm_dict, report_kpca_dict]\n",
        "\n",
        "data = {\n",
        "    'Model': models,\n",
        "    'Accuracy': [report['accuracy'] for report in reports],\n",
        "    'Precision': [report['macro avg']['precision'] for report in reports],\n",
        "    'Recall': [report['macro avg']['recall'] for report in reports],\n",
        "    'F1-Score': [report['macro avg']['f1-score'] for report in reports]\n",
        "}\n",
        "\n",
        "performance_summary_df = pd.DataFrame(data)\n",
        "\n",
        "performance_summary_df"
      ],
      "metadata": {
        "id": "0szeH22ZOQh7",
        "colab": {
          "base_uri": "https://localhost:8080/",
          "height": 175
        },
        "outputId": "f4d3906c-fb96-454b-fc75-a1abb4f9060c"
      },
      "execution_count": 57,
      "outputs": [
        {
          "output_type": "execute_result",
          "data": {
            "text/plain": [
              "                 Model  Accuracy  Precision    Recall  F1-Score\n",
              "0            PCA + KNN  0.419142   0.377578  0.268119  0.276361\n",
              "1  Logistic Regression  0.630363   0.542595  0.522710  0.504130\n",
              "2                  SVM  0.623762   0.549666  0.495736  0.490778\n",
              "3                 KPCA  0.379538   0.351610  0.367640  0.325866"
            ],
            "text/html": [
              "\n",
              "  <div id=\"df-109c1517-99c7-468f-9a77-ac3d2c06810e\" class=\"colab-df-container\">\n",
              "    <div>\n",
              "<style scoped>\n",
              "    .dataframe tbody tr th:only-of-type {\n",
              "        vertical-align: middle;\n",
              "    }\n",
              "\n",
              "    .dataframe tbody tr th {\n",
              "        vertical-align: top;\n",
              "    }\n",
              "\n",
              "    .dataframe thead th {\n",
              "        text-align: right;\n",
              "    }\n",
              "</style>\n",
              "<table border=\"1\" class=\"dataframe\">\n",
              "  <thead>\n",
              "    <tr style=\"text-align: right;\">\n",
              "      <th></th>\n",
              "      <th>Model</th>\n",
              "      <th>Accuracy</th>\n",
              "      <th>Precision</th>\n",
              "      <th>Recall</th>\n",
              "      <th>F1-Score</th>\n",
              "    </tr>\n",
              "  </thead>\n",
              "  <tbody>\n",
              "    <tr>\n",
              "      <th>0</th>\n",
              "      <td>PCA + KNN</td>\n",
              "      <td>0.419142</td>\n",
              "      <td>0.377578</td>\n",
              "      <td>0.268119</td>\n",
              "      <td>0.276361</td>\n",
              "    </tr>\n",
              "    <tr>\n",
              "      <th>1</th>\n",
              "      <td>Logistic Regression</td>\n",
              "      <td>0.630363</td>\n",
              "      <td>0.542595</td>\n",
              "      <td>0.522710</td>\n",
              "      <td>0.504130</td>\n",
              "    </tr>\n",
              "    <tr>\n",
              "      <th>2</th>\n",
              "      <td>SVM</td>\n",
              "      <td>0.623762</td>\n",
              "      <td>0.549666</td>\n",
              "      <td>0.495736</td>\n",
              "      <td>0.490778</td>\n",
              "    </tr>\n",
              "    <tr>\n",
              "      <th>3</th>\n",
              "      <td>KPCA</td>\n",
              "      <td>0.379538</td>\n",
              "      <td>0.351610</td>\n",
              "      <td>0.367640</td>\n",
              "      <td>0.325866</td>\n",
              "    </tr>\n",
              "  </tbody>\n",
              "</table>\n",
              "</div>\n",
              "    <div class=\"colab-df-buttons\">\n",
              "\n",
              "  <div class=\"colab-df-container\">\n",
              "    <button class=\"colab-df-convert\" onclick=\"convertToInteractive('df-109c1517-99c7-468f-9a77-ac3d2c06810e')\"\n",
              "            title=\"Convert this dataframe to an interactive table.\"\n",
              "            style=\"display:none;\">\n",
              "\n",
              "  <svg xmlns=\"http://www.w3.org/2000/svg\" height=\"24px\" viewBox=\"0 -960 960 960\">\n",
              "    <path d=\"M120-120v-720h720v720H120Zm60-500h600v-160H180v160Zm220 220h160v-160H400v160Zm0 220h160v-160H400v160ZM180-400h160v-160H180v160Zm440 0h160v-160H620v160ZM180-180h160v-160H180v160Zm440 0h160v-160H620v160Z\"/>\n",
              "  </svg>\n",
              "    </button>\n",
              "\n",
              "  <style>\n",
              "    .colab-df-container {\n",
              "      display:flex;\n",
              "      gap: 12px;\n",
              "    }\n",
              "\n",
              "    .colab-df-convert {\n",
              "      background-color: #E8F0FE;\n",
              "      border: none;\n",
              "      border-radius: 50%;\n",
              "      cursor: pointer;\n",
              "      display: none;\n",
              "      fill: #1967D2;\n",
              "      height: 32px;\n",
              "      padding: 0 0 0 0;\n",
              "      width: 32px;\n",
              "    }\n",
              "\n",
              "    .colab-df-convert:hover {\n",
              "      background-color: #E2EBFA;\n",
              "      box-shadow: 0px 1px 2px rgba(60, 64, 67, 0.3), 0px 1px 3px 1px rgba(60, 64, 67, 0.15);\n",
              "      fill: #174EA6;\n",
              "    }\n",
              "\n",
              "    .colab-df-buttons div {\n",
              "      margin-bottom: 4px;\n",
              "    }\n",
              "\n",
              "    [theme=dark] .colab-df-convert {\n",
              "      background-color: #3B4455;\n",
              "      fill: #D2E3FC;\n",
              "    }\n",
              "\n",
              "    [theme=dark] .colab-df-convert:hover {\n",
              "      background-color: #434B5C;\n",
              "      box-shadow: 0px 1px 3px 1px rgba(0, 0, 0, 0.15);\n",
              "      filter: drop-shadow(0px 1px 2px rgba(0, 0, 0, 0.3));\n",
              "      fill: #FFFFFF;\n",
              "    }\n",
              "  </style>\n",
              "\n",
              "    <script>\n",
              "      const buttonEl =\n",
              "        document.querySelector('#df-109c1517-99c7-468f-9a77-ac3d2c06810e button.colab-df-convert');\n",
              "      buttonEl.style.display =\n",
              "        google.colab.kernel.accessAllowed ? 'block' : 'none';\n",
              "\n",
              "      async function convertToInteractive(key) {\n",
              "        const element = document.querySelector('#df-109c1517-99c7-468f-9a77-ac3d2c06810e');\n",
              "        const dataTable =\n",
              "          await google.colab.kernel.invokeFunction('convertToInteractive',\n",
              "                                                    [key], {});\n",
              "        if (!dataTable) return;\n",
              "\n",
              "        const docLinkHtml = 'Like what you see? Visit the ' +\n",
              "          '<a target=\"_blank\" href=https://colab.research.google.com/notebooks/data_table.ipynb>data table notebook</a>'\n",
              "          + ' to learn more about interactive tables.';\n",
              "        element.innerHTML = '';\n",
              "        dataTable['output_type'] = 'display_data';\n",
              "        await google.colab.output.renderOutput(dataTable, element);\n",
              "        const docLink = document.createElement('div');\n",
              "        docLink.innerHTML = docLinkHtml;\n",
              "        element.appendChild(docLink);\n",
              "      }\n",
              "    </script>\n",
              "  </div>\n",
              "\n",
              "\n",
              "<div id=\"df-ede04621-5ae9-4f64-bffd-0d0869826188\">\n",
              "  <button class=\"colab-df-quickchart\" onclick=\"quickchart('df-ede04621-5ae9-4f64-bffd-0d0869826188')\"\n",
              "            title=\"Suggest charts\"\n",
              "            style=\"display:none;\">\n",
              "\n",
              "<svg xmlns=\"http://www.w3.org/2000/svg\" height=\"24px\"viewBox=\"0 0 24 24\"\n",
              "     width=\"24px\">\n",
              "    <g>\n",
              "        <path d=\"M19 3H5c-1.1 0-2 .9-2 2v14c0 1.1.9 2 2 2h14c1.1 0 2-.9 2-2V5c0-1.1-.9-2-2-2zM9 17H7v-7h2v7zm4 0h-2V7h2v10zm4 0h-2v-4h2v4z\"/>\n",
              "    </g>\n",
              "</svg>\n",
              "  </button>\n",
              "\n",
              "<style>\n",
              "  .colab-df-quickchart {\n",
              "      --bg-color: #E8F0FE;\n",
              "      --fill-color: #1967D2;\n",
              "      --hover-bg-color: #E2EBFA;\n",
              "      --hover-fill-color: #174EA6;\n",
              "      --disabled-fill-color: #AAA;\n",
              "      --disabled-bg-color: #DDD;\n",
              "  }\n",
              "\n",
              "  [theme=dark] .colab-df-quickchart {\n",
              "      --bg-color: #3B4455;\n",
              "      --fill-color: #D2E3FC;\n",
              "      --hover-bg-color: #434B5C;\n",
              "      --hover-fill-color: #FFFFFF;\n",
              "      --disabled-bg-color: #3B4455;\n",
              "      --disabled-fill-color: #666;\n",
              "  }\n",
              "\n",
              "  .colab-df-quickchart {\n",
              "    background-color: var(--bg-color);\n",
              "    border: none;\n",
              "    border-radius: 50%;\n",
              "    cursor: pointer;\n",
              "    display: none;\n",
              "    fill: var(--fill-color);\n",
              "    height: 32px;\n",
              "    padding: 0;\n",
              "    width: 32px;\n",
              "  }\n",
              "\n",
              "  .colab-df-quickchart:hover {\n",
              "    background-color: var(--hover-bg-color);\n",
              "    box-shadow: 0 1px 2px rgba(60, 64, 67, 0.3), 0 1px 3px 1px rgba(60, 64, 67, 0.15);\n",
              "    fill: var(--button-hover-fill-color);\n",
              "  }\n",
              "\n",
              "  .colab-df-quickchart-complete:disabled,\n",
              "  .colab-df-quickchart-complete:disabled:hover {\n",
              "    background-color: var(--disabled-bg-color);\n",
              "    fill: var(--disabled-fill-color);\n",
              "    box-shadow: none;\n",
              "  }\n",
              "\n",
              "  .colab-df-spinner {\n",
              "    border: 2px solid var(--fill-color);\n",
              "    border-color: transparent;\n",
              "    border-bottom-color: var(--fill-color);\n",
              "    animation:\n",
              "      spin 1s steps(1) infinite;\n",
              "  }\n",
              "\n",
              "  @keyframes spin {\n",
              "    0% {\n",
              "      border-color: transparent;\n",
              "      border-bottom-color: var(--fill-color);\n",
              "      border-left-color: var(--fill-color);\n",
              "    }\n",
              "    20% {\n",
              "      border-color: transparent;\n",
              "      border-left-color: var(--fill-color);\n",
              "      border-top-color: var(--fill-color);\n",
              "    }\n",
              "    30% {\n",
              "      border-color: transparent;\n",
              "      border-left-color: var(--fill-color);\n",
              "      border-top-color: var(--fill-color);\n",
              "      border-right-color: var(--fill-color);\n",
              "    }\n",
              "    40% {\n",
              "      border-color: transparent;\n",
              "      border-right-color: var(--fill-color);\n",
              "      border-top-color: var(--fill-color);\n",
              "    }\n",
              "    60% {\n",
              "      border-color: transparent;\n",
              "      border-right-color: var(--fill-color);\n",
              "    }\n",
              "    80% {\n",
              "      border-color: transparent;\n",
              "      border-right-color: var(--fill-color);\n",
              "      border-bottom-color: var(--fill-color);\n",
              "    }\n",
              "    90% {\n",
              "      border-color: transparent;\n",
              "      border-bottom-color: var(--fill-color);\n",
              "    }\n",
              "  }\n",
              "</style>\n",
              "\n",
              "  <script>\n",
              "    async function quickchart(key) {\n",
              "      const quickchartButtonEl =\n",
              "        document.querySelector('#' + key + ' button');\n",
              "      quickchartButtonEl.disabled = true;  // To prevent multiple clicks.\n",
              "      quickchartButtonEl.classList.add('colab-df-spinner');\n",
              "      try {\n",
              "        const charts = await google.colab.kernel.invokeFunction(\n",
              "            'suggestCharts', [key], {});\n",
              "      } catch (error) {\n",
              "        console.error('Error during call to suggestCharts:', error);\n",
              "      }\n",
              "      quickchartButtonEl.classList.remove('colab-df-spinner');\n",
              "      quickchartButtonEl.classList.add('colab-df-quickchart-complete');\n",
              "    }\n",
              "    (() => {\n",
              "      let quickchartButtonEl =\n",
              "        document.querySelector('#df-ede04621-5ae9-4f64-bffd-0d0869826188 button');\n",
              "      quickchartButtonEl.style.display =\n",
              "        google.colab.kernel.accessAllowed ? 'block' : 'none';\n",
              "    })();\n",
              "  </script>\n",
              "</div>\n",
              "\n",
              "  <div id=\"id_d014ffcd-e9ea-4a7d-964f-94b940b1ce89\">\n",
              "    <style>\n",
              "      .colab-df-generate {\n",
              "        background-color: #E8F0FE;\n",
              "        border: none;\n",
              "        border-radius: 50%;\n",
              "        cursor: pointer;\n",
              "        display: none;\n",
              "        fill: #1967D2;\n",
              "        height: 32px;\n",
              "        padding: 0 0 0 0;\n",
              "        width: 32px;\n",
              "      }\n",
              "\n",
              "      .colab-df-generate:hover {\n",
              "        background-color: #E2EBFA;\n",
              "        box-shadow: 0px 1px 2px rgba(60, 64, 67, 0.3), 0px 1px 3px 1px rgba(60, 64, 67, 0.15);\n",
              "        fill: #174EA6;\n",
              "      }\n",
              "\n",
              "      [theme=dark] .colab-df-generate {\n",
              "        background-color: #3B4455;\n",
              "        fill: #D2E3FC;\n",
              "      }\n",
              "\n",
              "      [theme=dark] .colab-df-generate:hover {\n",
              "        background-color: #434B5C;\n",
              "        box-shadow: 0px 1px 3px 1px rgba(0, 0, 0, 0.15);\n",
              "        filter: drop-shadow(0px 1px 2px rgba(0, 0, 0, 0.3));\n",
              "        fill: #FFFFFF;\n",
              "      }\n",
              "    </style>\n",
              "    <button class=\"colab-df-generate\" onclick=\"generateWithVariable('performance_summary_df')\"\n",
              "            title=\"Generate code using this dataframe.\"\n",
              "            style=\"display:none;\">\n",
              "\n",
              "  <svg xmlns=\"http://www.w3.org/2000/svg\" height=\"24px\"viewBox=\"0 0 24 24\"\n",
              "       width=\"24px\">\n",
              "    <path d=\"M7,19H8.4L18.45,9,17,7.55,7,17.6ZM5,21V16.75L18.45,3.32a2,2,0,0,1,2.83,0l1.4,1.43a1.91,1.91,0,0,1,.58,1.4,1.91,1.91,0,0,1-.58,1.4L9.25,21ZM18.45,9,17,7.55Zm-12,3A5.31,5.31,0,0,0,4.9,8.1,5.31,5.31,0,0,0,1,6.5,5.31,5.31,0,0,0,4.9,4.9,5.31,5.31,0,0,0,6.5,1,5.31,5.31,0,0,0,8.1,4.9,5.31,5.31,0,0,0,12,6.5,5.46,5.46,0,0,0,6.5,12Z\"/>\n",
              "  </svg>\n",
              "    </button>\n",
              "    <script>\n",
              "      (() => {\n",
              "      const buttonEl =\n",
              "        document.querySelector('#id_d014ffcd-e9ea-4a7d-964f-94b940b1ce89 button.colab-df-generate');\n",
              "      buttonEl.style.display =\n",
              "        google.colab.kernel.accessAllowed ? 'block' : 'none';\n",
              "\n",
              "      buttonEl.onclick = () => {\n",
              "        google.colab.notebook.generateWithVariable('performance_summary_df');\n",
              "      }\n",
              "      })();\n",
              "    </script>\n",
              "  </div>\n",
              "\n",
              "    </div>\n",
              "  </div>\n"
            ],
            "application/vnd.google.colaboratory.intrinsic+json": {
              "type": "dataframe",
              "variable_name": "performance_summary_df",
              "summary": "{\n  \"name\": \"performance_summary_df\",\n  \"rows\": 4,\n  \"fields\": [\n    {\n      \"column\": \"Model\",\n      \"properties\": {\n        \"dtype\": \"string\",\n        \"num_unique_values\": 4,\n        \"samples\": [\n          \"Logistic Regression\",\n          \"KPCA\",\n          \"PCA + KNN\"\n        ],\n        \"semantic_type\": \"\",\n        \"description\": \"\"\n      }\n    },\n    {\n      \"column\": \"Accuracy\",\n      \"properties\": {\n        \"dtype\": \"number\",\n        \"std\": 0.13249362526779057,\n        \"min\": 0.3795379537953795,\n        \"max\": 0.6303630363036303,\n        \"num_unique_values\": 4,\n        \"samples\": [\n          0.6303630363036303,\n          0.3795379537953795,\n          0.41914191419141916\n        ],\n        \"semantic_type\": \"\",\n        \"description\": \"\"\n      }\n    },\n    {\n      \"column\": \"Precision\",\n      \"properties\": {\n        \"dtype\": \"number\",\n        \"std\": 0.10538464860999533,\n        \"min\": 0.3516100398846579,\n        \"max\": 0.5496662941578196,\n        \"num_unique_values\": 4,\n        \"samples\": [\n          0.5425953858435102,\n          0.3516100398846579,\n          0.3775780700487903\n        ],\n        \"semantic_type\": \"\",\n        \"description\": \"\"\n      }\n    },\n    {\n      \"column\": \"Recall\",\n      \"properties\": {\n        \"dtype\": \"number\",\n        \"std\": 0.11822049355839707,\n        \"min\": 0.2681194511702986,\n        \"max\": 0.5227101223002862,\n        \"num_unique_values\": 4,\n        \"samples\": [\n          0.5227101223002862,\n          0.36763952892985147,\n          0.2681194511702986\n        ],\n        \"semantic_type\": \"\",\n        \"description\": \"\"\n      }\n    },\n    {\n      \"column\": \"F1-Score\",\n      \"properties\": {\n        \"dtype\": \"number\",\n        \"std\": 0.115273636346044,\n        \"min\": 0.2763606795417161,\n        \"max\": 0.504129810525164,\n        \"num_unique_values\": 4,\n        \"samples\": [\n          0.504129810525164,\n          0.32586624844689355,\n          0.2763606795417161\n        ],\n        \"semantic_type\": \"\",\n        \"description\": \"\"\n      }\n    }\n  ]\n}"
            }
          },
          "metadata": {},
          "execution_count": 57
        }
      ]
    },
    {
      "cell_type": "code",
      "source": [
        "\n"
      ],
      "metadata": {
        "id": "L5rG9B7dipCo"
      },
      "execution_count": null,
      "outputs": []
    }
  ]
}